{
 "cells": [
  {
   "cell_type": "code",
   "execution_count": 167,
   "metadata": {},
   "outputs": [],
   "source": [
    "import pandas as pd\n",
    "from pandas_datareader import data as pdr\n",
    "import numpy as np\n",
    "import datetime\n",
    "import matplotlib as plt\n",
    "import seaborn as sns\n",
    "%matplotlib inline\n",
    "from plotly.offline import iplot\n",
    "import plotly.graph_objs as go\n",
    "import matplotlib.pyplot as plt"
   ]
  },
  {
   "cell_type": "code",
   "execution_count": 168,
   "metadata": {},
   "outputs": [],
   "source": [
    "start = datetime.datetime(2004, 1, 1)\n",
    "end = datetime.datetime(2020, 5, 31)"
   ]
  },
  {
   "cell_type": "code",
   "execution_count": 169,
   "metadata": {},
   "outputs": [
    {
     "data": {
      "text/plain": [
       "DatetimeIndex(['2004-01-01', '2004-01-02', '2004-01-03', '2004-01-04',\n",
       "               '2004-01-05', '2004-01-06', '2004-01-07', '2004-01-08',\n",
       "               '2004-01-09', '2004-01-10',\n",
       "               ...\n",
       "               '2020-05-22', '2020-05-23', '2020-05-24', '2020-05-25',\n",
       "               '2020-05-26', '2020-05-27', '2020-05-28', '2020-05-29',\n",
       "               '2020-05-30', '2020-05-31'],\n",
       "              dtype='datetime64[ns]', length=5996, freq='D')"
      ]
     },
     "execution_count": 169,
     "metadata": {},
     "output_type": "execute_result"
    }
   ],
   "source": [
    "date_from = \"2004-01-01\"\n",
    "date_to = \"2020-5-31\"\n",
    "date_range = pd.date_range(date_from, date_to, freq=\"D\")\n",
    "date_range"
   ]
  },
  {
   "cell_type": "code",
   "execution_count": 170,
   "metadata": {},
   "outputs": [],
   "source": [
    "import yfinance as yf"
   ]
  },
  {
   "cell_type": "code",
   "execution_count": 171,
   "metadata": {},
   "outputs": [],
   "source": [
    "from pandas_datareader._utils import RemoteDataError\n",
    "from pandas_datareader.data import Options"
   ]
  },
  {
   "cell_type": "code",
   "execution_count": 172,
   "metadata": {},
   "outputs": [],
   "source": [
    "import requests\n",
    "from bs4 import BeautifulSoup\n",
    "import bs4"
   ]
  },
  {
   "cell_type": "code",
   "execution_count": 173,
   "metadata": {},
   "outputs": [],
   "source": [
    "yf.pdr_override() "
   ]
  },
  {
   "cell_type": "code",
   "execution_count": 174,
   "metadata": {},
   "outputs": [],
   "source": [
    "data_source='google'\n",
    "start_date = start\n",
    "end_date = end"
   ]
  },
  {
   "cell_type": "code",
   "execution_count": 175,
   "metadata": {},
   "outputs": [],
   "source": [
    "from nsepy import get_history"
   ]
  },
  {
   "cell_type": "code",
   "execution_count": 178,
   "metadata": {},
   "outputs": [
    {
     "name": "stdout",
     "output_type": "stream",
     "text": [
      "[*********************100%***********************]  1 of 1 completed\n"
     ]
    },
    {
     "data": {
      "text/html": [
       "<div>\n",
       "<style scoped>\n",
       "    .dataframe tbody tr th:only-of-type {\n",
       "        vertical-align: middle;\n",
       "    }\n",
       "\n",
       "    .dataframe tbody tr th {\n",
       "        vertical-align: top;\n",
       "    }\n",
       "\n",
       "    .dataframe thead th {\n",
       "        text-align: right;\n",
       "    }\n",
       "</style>\n",
       "<table border=\"1\" class=\"dataframe\">\n",
       "  <thead>\n",
       "    <tr style=\"text-align: right;\">\n",
       "      <th></th>\n",
       "      <th>Open</th>\n",
       "      <th>High</th>\n",
       "      <th>Low</th>\n",
       "      <th>Close</th>\n",
       "      <th>Adj Close</th>\n",
       "      <th>Volume</th>\n",
       "    </tr>\n",
       "    <tr>\n",
       "      <th>Date</th>\n",
       "      <th></th>\n",
       "      <th></th>\n",
       "      <th></th>\n",
       "      <th></th>\n",
       "      <th></th>\n",
       "      <th></th>\n",
       "    </tr>\n",
       "  </thead>\n",
       "  <tbody>\n",
       "    <tr>\n",
       "      <th>2007-09-17</th>\n",
       "      <td>4518.450195</td>\n",
       "      <td>4549.049805</td>\n",
       "      <td>4482.850098</td>\n",
       "      <td>4494.649902</td>\n",
       "      <td>4494.649902</td>\n",
       "      <td>0</td>\n",
       "    </tr>\n",
       "    <tr>\n",
       "      <th>2007-09-18</th>\n",
       "      <td>4494.100098</td>\n",
       "      <td>4551.799805</td>\n",
       "      <td>4481.549805</td>\n",
       "      <td>4546.200195</td>\n",
       "      <td>4546.200195</td>\n",
       "      <td>0</td>\n",
       "    </tr>\n",
       "    <tr>\n",
       "      <th>2007-09-19</th>\n",
       "      <td>4550.250000</td>\n",
       "      <td>4739.000000</td>\n",
       "      <td>4550.250000</td>\n",
       "      <td>4732.350098</td>\n",
       "      <td>4732.350098</td>\n",
       "      <td>0</td>\n",
       "    </tr>\n",
       "    <tr>\n",
       "      <th>2007-09-20</th>\n",
       "      <td>4734.850098</td>\n",
       "      <td>4760.850098</td>\n",
       "      <td>4721.149902</td>\n",
       "      <td>4747.549805</td>\n",
       "      <td>4747.549805</td>\n",
       "      <td>0</td>\n",
       "    </tr>\n",
       "    <tr>\n",
       "      <th>2007-09-21</th>\n",
       "      <td>4752.950195</td>\n",
       "      <td>4855.700195</td>\n",
       "      <td>4733.700195</td>\n",
       "      <td>4837.549805</td>\n",
       "      <td>4837.549805</td>\n",
       "      <td>0</td>\n",
       "    </tr>\n",
       "    <tr>\n",
       "      <th>...</th>\n",
       "      <td>...</td>\n",
       "      <td>...</td>\n",
       "      <td>...</td>\n",
       "      <td>...</td>\n",
       "      <td>...</td>\n",
       "      <td>...</td>\n",
       "    </tr>\n",
       "    <tr>\n",
       "      <th>2020-06-08</th>\n",
       "      <td>10326.750000</td>\n",
       "      <td>10328.500000</td>\n",
       "      <td>10120.250000</td>\n",
       "      <td>10167.450195</td>\n",
       "      <td>10167.450195</td>\n",
       "      <td>936500</td>\n",
       "    </tr>\n",
       "    <tr>\n",
       "      <th>2020-06-09</th>\n",
       "      <td>10181.150391</td>\n",
       "      <td>10291.150391</td>\n",
       "      <td>10021.450195</td>\n",
       "      <td>10046.650391</td>\n",
       "      <td>10046.650391</td>\n",
       "      <td>754200</td>\n",
       "    </tr>\n",
       "    <tr>\n",
       "      <th>2020-06-10</th>\n",
       "      <td>10072.599609</td>\n",
       "      <td>10148.750000</td>\n",
       "      <td>10036.849609</td>\n",
       "      <td>10116.150391</td>\n",
       "      <td>10116.150391</td>\n",
       "      <td>632400</td>\n",
       "    </tr>\n",
       "    <tr>\n",
       "      <th>2020-06-11</th>\n",
       "      <td>10094.099609</td>\n",
       "      <td>10112.049805</td>\n",
       "      <td>9885.049805</td>\n",
       "      <td>9902.000000</td>\n",
       "      <td>9902.000000</td>\n",
       "      <td>715500</td>\n",
       "    </tr>\n",
       "    <tr>\n",
       "      <th>2020-06-12</th>\n",
       "      <td>9544.950195</td>\n",
       "      <td>9996.049805</td>\n",
       "      <td>9544.349609</td>\n",
       "      <td>9972.900391</td>\n",
       "      <td>9972.900391</td>\n",
       "      <td>796300</td>\n",
       "    </tr>\n",
       "  </tbody>\n",
       "</table>\n",
       "<p>3108 rows × 6 columns</p>\n",
       "</div>"
      ],
      "text/plain": [
       "                    Open          High           Low         Close  \\\n",
       "Date                                                                 \n",
       "2007-09-17   4518.450195   4549.049805   4482.850098   4494.649902   \n",
       "2007-09-18   4494.100098   4551.799805   4481.549805   4546.200195   \n",
       "2007-09-19   4550.250000   4739.000000   4550.250000   4732.350098   \n",
       "2007-09-20   4734.850098   4760.850098   4721.149902   4747.549805   \n",
       "2007-09-21   4752.950195   4855.700195   4733.700195   4837.549805   \n",
       "...                  ...           ...           ...           ...   \n",
       "2020-06-08  10326.750000  10328.500000  10120.250000  10167.450195   \n",
       "2020-06-09  10181.150391  10291.150391  10021.450195  10046.650391   \n",
       "2020-06-10  10072.599609  10148.750000  10036.849609  10116.150391   \n",
       "2020-06-11  10094.099609  10112.049805   9885.049805   9902.000000   \n",
       "2020-06-12   9544.950195   9996.049805   9544.349609   9972.900391   \n",
       "\n",
       "               Adj Close  Volume  \n",
       "Date                              \n",
       "2007-09-17   4494.649902       0  \n",
       "2007-09-18   4546.200195       0  \n",
       "2007-09-19   4732.350098       0  \n",
       "2007-09-20   4747.549805       0  \n",
       "2007-09-21   4837.549805       0  \n",
       "...                  ...     ...  \n",
       "2020-06-08  10167.450195  936500  \n",
       "2020-06-09  10046.650391  754200  \n",
       "2020-06-10  10116.150391  632400  \n",
       "2020-06-11   9902.000000  715500  \n",
       "2020-06-12   9972.900391  796300  \n",
       "\n",
       "[3108 rows x 6 columns]"
      ]
     },
     "execution_count": 178,
     "metadata": {},
     "output_type": "execute_result"
    }
   ],
   "source": [
    "NSE = data.get_data_yahoo('^NSEI', start_date)\n",
    "NSE"
   ]
  },
  {
   "cell_type": "code",
   "execution_count": 179,
   "metadata": {},
   "outputs": [
    {
     "data": {
      "image/png": "[encoded data removed]",
      "text/plain": [
       "<Figure size 432x288 with 1 Axes>"
      ]
     },
     "metadata": {
      "needs_background": "light"
     },
     "output_type": "display_data"
    }
   ],
   "source": [
    "NSE.Open.plot()\n",
    "NSE.Close.plot()\n",
    "plt.show()"
   ]
  },
  {
   "cell_type": "code",
   "execution_count": 180,
   "metadata": {},
   "outputs": [],
   "source": [
    "NSE_return = pd.DataFrame()"
   ]
  },
  {
   "cell_type": "code",
   "execution_count": 181,
   "metadata": {},
   "outputs": [
    {
     "data": {
      "text/html": [
       "<div>\n",
       "<style scoped>\n",
       "    .dataframe tbody tr th:only-of-type {\n",
       "        vertical-align: middle;\n",
       "    }\n",
       "\n",
       "    .dataframe tbody tr th {\n",
       "        vertical-align: top;\n",
       "    }\n",
       "\n",
       "    .dataframe thead th {\n",
       "        text-align: right;\n",
       "    }\n",
       "</style>\n",
       "<table border=\"1\" class=\"dataframe\">\n",
       "  <thead>\n",
       "    <tr style=\"text-align: right;\">\n",
       "      <th></th>\n",
       "      <th>Adj Close</th>\n",
       "    </tr>\n",
       "    <tr>\n",
       "      <th>Date</th>\n",
       "      <th></th>\n",
       "    </tr>\n",
       "  </thead>\n",
       "  <tbody>\n",
       "    <tr>\n",
       "      <th>2007-09-17</th>\n",
       "      <td>NaN</td>\n",
       "    </tr>\n",
       "    <tr>\n",
       "      <th>2007-09-18</th>\n",
       "      <td>0.011469</td>\n",
       "    </tr>\n",
       "    <tr>\n",
       "      <th>2007-09-19</th>\n",
       "      <td>0.040946</td>\n",
       "    </tr>\n",
       "    <tr>\n",
       "      <th>2007-09-20</th>\n",
       "      <td>0.003212</td>\n",
       "    </tr>\n",
       "    <tr>\n",
       "      <th>2007-09-21</th>\n",
       "      <td>0.018957</td>\n",
       "    </tr>\n",
       "    <tr>\n",
       "      <th>...</th>\n",
       "      <td>...</td>\n",
       "    </tr>\n",
       "    <tr>\n",
       "      <th>2020-06-08</th>\n",
       "      <td>0.002495</td>\n",
       "    </tr>\n",
       "    <tr>\n",
       "      <th>2020-06-09</th>\n",
       "      <td>-0.011881</td>\n",
       "    </tr>\n",
       "    <tr>\n",
       "      <th>2020-06-10</th>\n",
       "      <td>0.006918</td>\n",
       "    </tr>\n",
       "    <tr>\n",
       "      <th>2020-06-11</th>\n",
       "      <td>-0.021169</td>\n",
       "    </tr>\n",
       "    <tr>\n",
       "      <th>2020-06-12</th>\n",
       "      <td>0.007160</td>\n",
       "    </tr>\n",
       "  </tbody>\n",
       "</table>\n",
       "<p>3108 rows × 1 columns</p>\n",
       "</div>"
      ],
      "text/plain": [
       "            Adj Close\n",
       "Date                 \n",
       "2007-09-17        NaN\n",
       "2007-09-18   0.011469\n",
       "2007-09-19   0.040946\n",
       "2007-09-20   0.003212\n",
       "2007-09-21   0.018957\n",
       "...               ...\n",
       "2020-06-08   0.002495\n",
       "2020-06-09  -0.011881\n",
       "2020-06-10   0.006918\n",
       "2020-06-11  -0.021169\n",
       "2020-06-12   0.007160\n",
       "\n",
       "[3108 rows x 1 columns]"
      ]
     },
     "execution_count": 181,
     "metadata": {},
     "output_type": "execute_result"
    }
   ],
   "source": [
    "NSE_return = pd.DataFrame(NSE['Adj Close'].pct_change())\n",
    "NSE_return"
   ]
  },
  {
   "cell_type": "code",
   "execution_count": 182,
   "metadata": {},
   "outputs": [
    {
     "data": {
      "text/html": [
       "<div>\n",
       "<style scoped>\n",
       "    .dataframe tbody tr th:only-of-type {\n",
       "        vertical-align: middle;\n",
       "    }\n",
       "\n",
       "    .dataframe tbody tr th {\n",
       "        vertical-align: top;\n",
       "    }\n",
       "\n",
       "    .dataframe thead th {\n",
       "        text-align: right;\n",
       "    }\n",
       "</style>\n",
       "<table border=\"1\" class=\"dataframe\">\n",
       "  <thead>\n",
       "    <tr style=\"text-align: right;\">\n",
       "      <th></th>\n",
       "      <th>Open</th>\n",
       "      <th>High</th>\n",
       "      <th>Low</th>\n",
       "      <th>Close</th>\n",
       "      <th>Adj Close</th>\n",
       "      <th>Volume</th>\n",
       "    </tr>\n",
       "  </thead>\n",
       "  <tbody>\n",
       "    <tr>\n",
       "      <th>count</th>\n",
       "      <td>3108.000000</td>\n",
       "      <td>3108.000000</td>\n",
       "      <td>3108.000000</td>\n",
       "      <td>3108.000000</td>\n",
       "      <td>3108.000000</td>\n",
       "      <td>3.108000e+03</td>\n",
       "    </tr>\n",
       "    <tr>\n",
       "      <th>mean</th>\n",
       "      <td>7254.959429</td>\n",
       "      <td>7299.863001</td>\n",
       "      <td>7198.701042</td>\n",
       "      <td>7249.641959</td>\n",
       "      <td>7249.641959</td>\n",
       "      <td>1.332130e+05</td>\n",
       "    </tr>\n",
       "    <tr>\n",
       "      <th>std</th>\n",
       "      <td>2468.971143</td>\n",
       "      <td>2467.369152</td>\n",
       "      <td>2464.069116</td>\n",
       "      <td>2464.848221</td>\n",
       "      <td>2464.848221</td>\n",
       "      <td>1.718735e+05</td>\n",
       "    </tr>\n",
       "    <tr>\n",
       "      <th>min</th>\n",
       "      <td>2553.600098</td>\n",
       "      <td>2585.300049</td>\n",
       "      <td>2252.750000</td>\n",
       "      <td>2524.199951</td>\n",
       "      <td>2524.199951</td>\n",
       "      <td>0.000000e+00</td>\n",
       "    </tr>\n",
       "    <tr>\n",
       "      <th>25%</th>\n",
       "      <td>5275.812622</td>\n",
       "      <td>5315.124878</td>\n",
       "      <td>5233.187622</td>\n",
       "      <td>5274.850098</td>\n",
       "      <td>5274.850098</td>\n",
       "      <td>0.000000e+00</td>\n",
       "    </tr>\n",
       "    <tr>\n",
       "      <th>50%</th>\n",
       "      <td>6273.875000</td>\n",
       "      <td>6306.100098</td>\n",
       "      <td>6233.074951</td>\n",
       "      <td>6274.274902</td>\n",
       "      <td>6274.274902</td>\n",
       "      <td>1.257000e+05</td>\n",
       "    </tr>\n",
       "    <tr>\n",
       "      <th>75%</th>\n",
       "      <td>9047.587646</td>\n",
       "      <td>9107.512451</td>\n",
       "      <td>8913.512207</td>\n",
       "      <td>8993.062256</td>\n",
       "      <td>8993.062256</td>\n",
       "      <td>1.957000e+05</td>\n",
       "    </tr>\n",
       "    <tr>\n",
       "      <th>max</th>\n",
       "      <td>12430.500000</td>\n",
       "      <td>12430.500000</td>\n",
       "      <td>12321.400391</td>\n",
       "      <td>12362.299805</td>\n",
       "      <td>12362.299805</td>\n",
       "      <td>1.811000e+06</td>\n",
       "    </tr>\n",
       "  </tbody>\n",
       "</table>\n",
       "</div>"
      ],
      "text/plain": [
       "               Open          High           Low         Close     Adj Close  \\\n",
       "count   3108.000000   3108.000000   3108.000000   3108.000000   3108.000000   \n",
       "mean    7254.959429   7299.863001   7198.701042   7249.641959   7249.641959   \n",
       "std     2468.971143   2467.369152   2464.069116   2464.848221   2464.848221   \n",
       "min     2553.600098   2585.300049   2252.750000   2524.199951   2524.199951   \n",
       "25%     5275.812622   5315.124878   5233.187622   5274.850098   5274.850098   \n",
       "50%     6273.875000   6306.100098   6233.074951   6274.274902   6274.274902   \n",
       "75%     9047.587646   9107.512451   8913.512207   8993.062256   8993.062256   \n",
       "max    12430.500000  12430.500000  12321.400391  12362.299805  12362.299805   \n",
       "\n",
       "             Volume  \n",
       "count  3.108000e+03  \n",
       "mean   1.332130e+05  \n",
       "std    1.718735e+05  \n",
       "min    0.000000e+00  \n",
       "25%    0.000000e+00  \n",
       "50%    1.257000e+05  \n",
       "75%    1.957000e+05  \n",
       "max    1.811000e+06  "
      ]
     },
     "execution_count": 182,
     "metadata": {},
     "output_type": "execute_result"
    }
   ],
   "source": [
    "NSE.describe()"
   ]
  },
  {
   "cell_type": "code",
   "execution_count": 183,
   "metadata": {},
   "outputs": [
    {
     "data": {
      "text/plain": [
       "<seaborn.axisgrid.PairGrid at 0x7fae85ddb150>"
      ]
     },
     "execution_count": 183,
     "metadata": {},
     "output_type": "execute_result"
    },
    {
     "data": {
      "image/png": "[encoded data removed]",
      "text/plain": [
       "<Figure size 180x180 with 2 Axes>"
      ]
     },
     "metadata": {
      "needs_background": "light"
     },
     "output_type": "display_data"
    }
   ],
   "source": [
    "sns.pairplot(NSE_return)"
   ]
  },
  {
   "cell_type": "code",
   "execution_count": 184,
   "metadata": {},
   "outputs": [
    {
     "data": {
      "text/plain": [
       "<matplotlib.legend.Legend at 0x7fae8483cd50>"
      ]
     },
     "execution_count": 184,
     "metadata": {},
     "output_type": "execute_result"
    },
    {
     "data": {
      "image/png": "[encoded data removed]",
      "text/plain": [
       "<Figure size 1152x720 with 1 Axes>"
      ]
     },
     "metadata": {
      "needs_background": "light"
     },
     "output_type": "display_data"
    }
   ],
   "source": [
    "NSE['Close'].plot(figsize=(16,10),label=tick)\n",
    "plt.legend()"
   ]
  },
  {
   "cell_type": "code",
   "execution_count": 185,
   "metadata": {},
   "outputs": [
    {
     "data": {
      "text/plain": [
       "<matplotlib.legend.Legend at 0x7fae85f23dd0>"
      ]
     },
     "execution_count": 185,
     "metadata": {},
     "output_type": "execute_result"
    },
    {
     "data": {
      "image/png": "[encoded data removed]",
      "text/plain": [
       "<Figure size 1152x576 with 1 Axes>"
      ]
     },
     "metadata": {
      "needs_background": "light"
     },
     "output_type": "display_data"
    }
   ],
   "source": [
    "NSE['Open'].plot(figsize=(16,8),label=tick)\n",
    "plt.legend()"
   ]
  },
  {
   "cell_type": "code",
   "execution_count": 186,
   "metadata": {},
   "outputs": [
    {
     "data": {
      "text/plain": [
       "<matplotlib.legend.Legend at 0x7fae86dc1e50>"
      ]
     },
     "execution_count": 186,
     "metadata": {},
     "output_type": "execute_result"
    },
    {
     "data": {
      "image/png": "[encoded data removed]",
      "text/plain": [
       "<Figure size 1152x576 with 1 Axes>"
      ]
     },
     "metadata": {
      "needs_background": "light"
     },
     "output_type": "display_data"
    }
   ],
   "source": [
    "NSE_return['Adj Close'].plot(figsize=(16,8),label=tick)\n",
    "plt.legend()"
   ]
  },
  {
   "cell_type": "code",
   "execution_count": 187,
   "metadata": {},
   "outputs": [
    {
     "name": "stdout",
     "output_type": "stream",
     "text": [
      "                    Open          High           Low         Close  \\\n",
      "Date                                                                 \n",
      "2007-09-17   4518.450195   4549.049805   4482.850098   4494.649902   \n",
      "2007-09-18   4494.100098   4551.799805   4481.549805   4546.200195   \n",
      "2007-09-19   4550.250000   4739.000000   4550.250000   4732.350098   \n",
      "2007-09-20   4734.850098   4760.850098   4721.149902   4747.549805   \n",
      "2007-09-21   4752.950195   4855.700195   4733.700195   4837.549805   \n",
      "...                  ...           ...           ...           ...   \n",
      "2020-06-08  10326.750000  10328.500000  10120.250000  10167.450195   \n",
      "2020-06-09  10181.150391  10291.150391  10021.450195  10046.650391   \n",
      "2020-06-10  10072.599609  10148.750000  10036.849609  10116.150391   \n",
      "2020-06-11  10094.099609  10112.049805   9885.049805   9902.000000   \n",
      "2020-06-12   9544.950195   9996.049805   9544.349609   9972.900391   \n",
      "\n",
      "               Adj Close  Volume   Prediction  \n",
      "Date                                           \n",
      "2007-09-17   4494.649902       0  5868.750000  \n",
      "2007-09-18   4546.200195       0  5900.649902  \n",
      "2007-09-19   4732.350098       0  5866.450195  \n",
      "2007-09-20   4747.549805       0  5932.399902  \n",
      "2007-09-21   4837.549805       0  5847.299805  \n",
      "...                  ...     ...          ...  \n",
      "2020-06-08  10167.450195  936500          NaN  \n",
      "2020-06-09  10046.650391  754200          NaN  \n",
      "2020-06-10  10116.150391  632400          NaN  \n",
      "2020-06-11   9902.000000  715500          NaN  \n",
      "2020-06-12   9972.900391  796300          NaN  \n",
      "\n",
      "[3108 rows x 7 columns]\n"
     ]
    }
   ],
   "source": [
    "forecast_out = 30\n",
    "NSE['Prediction'] = NSE[['Adj Close']].shift(-forecast_out)\n",
    "print(NSE)"
   ]
  },
  {
   "cell_type": "code",
   "execution_count": 188,
   "metadata": {},
   "outputs": [
    {
     "name": "stdout",
     "output_type": "stream",
     "text": [
      "[[  4518.45019531   4549.04980469   4482.85009766   4494.64990234\n",
      "    4494.64990234      0.        ]\n",
      " [  4494.10009766   4551.79980469   4481.54980469   4546.20019531\n",
      "    4546.20019531      0.        ]\n",
      " [  4550.25         4739.           4550.25         4732.35009766\n",
      "    4732.35009766      0.        ]\n",
      " ...\n",
      " [  9259.70019531   9377.09960938   9250.34960938   9282.29980469\n",
      "    9282.29980469 512800.        ]\n",
      " [  9389.79980469   9404.40039062   9260.           9380.90039062\n",
      "    9380.90039062 614500.        ]\n",
      " [  9408.59960938   9599.84960938   9392.34960938   9553.34960938\n",
      "    9553.34960938 653000.        ]]\n"
     ]
    }
   ],
   "source": [
    "### Create the independent data set (X)  #######\n",
    "# Convert the dataframe to a numpy array\n",
    "X = np.array(NSE.drop(['Prediction'],1))\n",
    "#Remove the last '30' rows\n",
    "X = X[:-forecast_out]\n",
    "print(X)"
   ]
  },
  {
   "cell_type": "code",
   "execution_count": 189,
   "metadata": {},
   "outputs": [
    {
     "name": "stdout",
     "output_type": "stream",
     "text": [
      "[ 5868.75        5900.64990234  5866.45019531 ... 10116.15039062\n",
      "  9902.          9972.90039062]\n"
     ]
    }
   ],
   "source": [
    "### Create the dependent data set (y)  #####\n",
    "# Convert the dataframe to a numpy array \n",
    "y = np.array(NSE['Prediction'])\n",
    "# Get all of the y values except the last '30' rows\n",
    "y = y[:-forecast_out]\n",
    "print(y)"
   ]
  },
  {
   "cell_type": "code",
   "execution_count": 190,
   "metadata": {},
   "outputs": [],
   "source": [
    "from sklearn.model_selection import train_test_split\n",
    "from sklearn.linear_model import LinearRegression"
   ]
  },
  {
   "cell_type": "code",
   "execution_count": 191,
   "metadata": {},
   "outputs": [],
   "source": [
    "X_train, X_test, y_train, y_test = train_test_split(X, y, test_size=0.4, random_state=101)"
   ]
  },
  {
   "cell_type": "code",
   "execution_count": 192,
   "metadata": {},
   "outputs": [],
   "source": [
    "lm = LinearRegression()"
   ]
  },
  {
   "cell_type": "code",
   "execution_count": 193,
   "metadata": {},
   "outputs": [
    {
     "data": {
      "text/plain": [
       "LinearRegression(copy_X=True, fit_intercept=True, n_jobs=None, normalize=False)"
      ]
     },
     "execution_count": 193,
     "metadata": {},
     "output_type": "execute_result"
    }
   ],
   "source": [
    "lm.fit(X_train, y_train)"
   ]
  },
  {
   "cell_type": "code",
   "execution_count": 194,
   "metadata": {},
   "outputs": [
    {
     "data": {
      "text/plain": [
       "array([[  7636.04980469,   7663.        ,   7515.5       ,\n",
       "          7558.20019531,   7558.20019531, 165100.        ],\n",
       "       [  8600.20019531,   8689.40039062,   8590.15039062,\n",
       "          8683.15039062,   8683.15039062, 157900.        ],\n",
       "       [  6729.5       ,   6732.25      ,   6675.45019531,\n",
       "          6721.04980469,   6721.04980469, 177800.        ],\n",
       "       ...,\n",
       "       [  5708.64990234,   5732.14990234,   5669.        ,\n",
       "          5688.70019531,   5688.70019531, 154600.        ],\n",
       "       [  6261.75      ,   6307.45019531,   6243.35009766,\n",
       "          6303.95019531,   6303.95019531, 122100.        ],\n",
       "       [  5755.79980469,   5803.14990234,   5753.89990234,\n",
       "          5787.64990234,   5787.64990234,      0.        ]])"
      ]
     },
     "execution_count": 194,
     "metadata": {},
     "output_type": "execute_result"
    }
   ],
   "source": [
    "X_train"
   ]
  },
  {
   "cell_type": "code",
   "execution_count": 195,
   "metadata": {},
   "outputs": [
    {
     "name": "stdout",
     "output_type": "stream",
     "text": [
      "108.9055932238598\n"
     ]
    }
   ],
   "source": [
    "print(lm.intercept_)"
   ]
  },
  {
   "cell_type": "code",
   "execution_count": 196,
   "metadata": {},
   "outputs": [
    {
     "name": "stdout",
     "output_type": "stream",
     "text": [
      "lm confidence:  0.9583228992615485\n"
     ]
    }
   ],
   "source": [
    "lm_confidence = lm.score(X_test, y_test)\n",
    "print(\"lm confidence: \", lm_confidence)"
   ]
  },
  {
   "cell_type": "code",
   "execution_count": 197,
   "metadata": {},
   "outputs": [
    {
     "name": "stdout",
     "output_type": "stream",
     "text": [
      "[[  9753.5          9889.04980469   9731.5          9859.90039062\n",
      "    9859.90039062 931200.        ]\n",
      " [  9533.5          9533.5          9266.95019531   9293.5\n",
      "    9293.5        687500.        ]\n",
      " [  9429.40039062   9450.90039062   9190.75         9205.59960938\n",
      "    9205.59960938 725200.        ]\n",
      " [  9226.79980469   9346.90039062   9116.5          9270.90039062\n",
      "    9270.90039062 722200.        ]\n",
      " [  9234.04980469   9277.84960938   9175.90039062   9199.04980469\n",
      "    9199.04980469 708700.        ]\n",
      " [  9376.95019531   9382.65039062   9238.20019531   9251.5\n",
      "    9251.5        609100.        ]\n",
      " [  9348.15039062   9439.90039062   9219.95019531   9239.20019531\n",
      "    9239.20019531 704600.        ]\n",
      " [  9168.84960938   9240.84960938   9043.95019531   9196.54980469\n",
      "    9196.54980469 805500.        ]\n",
      " [  9584.20019531   9584.5          9351.09960938   9383.54980469\n",
      "    9383.54980469 846400.        ]\n",
      " [  9213.95019531   9281.09960938   9119.75         9142.75\n",
      "    9142.75       602600.        ]\n",
      " [  9182.40039062   9182.40039062   9050.           9136.84960938\n",
      "    9136.84960938 575900.        ]\n",
      " [  9158.29980469   9158.29980469   8806.75         8823.25\n",
      "    8823.25       773000.        ]\n",
      " [  8961.70019531   9030.34960938   8855.29980469   8879.09960938\n",
      "    8879.09960938 762200.        ]\n",
      " [  8889.15039062   9093.79980469   8875.34960938   9066.54980469\n",
      "    9066.54980469 622300.        ]\n",
      " [  9079.45019531   9178.54980469   9056.09960938   9106.25\n",
      "    9106.25       631500.        ]\n",
      " [  9067.90039062   9149.59960938   8968.54980469   9039.25\n",
      "    9039.25       675800.        ]\n",
      " [  9099.75         9161.65039062   8996.65039062   9029.04980469\n",
      "    9029.04980469 655000.        ]\n",
      " [  9082.20019531   9334.           9004.25         9314.95019531\n",
      "    9314.95019531 763500.        ]\n",
      " [  9364.95019531   9511.25         9336.5          9490.09960938\n",
      "    9490.09960938 837900.        ]\n",
      " [  9422.20019531   9598.84960938   9376.90039062   9580.29980469\n",
      "    9580.29980469 967000.        ]\n",
      " [  9726.84960938   9931.59960938   9706.95019531   9826.15039062\n",
      "    9826.15039062 794200.        ]\n",
      " [  9880.84960938   9995.59960938   9824.04980469   9979.09960938\n",
      "    9979.09960938 770200.        ]\n",
      " [ 10108.29980469  10176.20019531  10035.54980469  10061.54980469\n",
      "   10061.54980469 794700.        ]\n",
      " [ 10054.25        10123.84960938   9944.25        10029.09960938\n",
      "   10029.09960938 775100.        ]\n",
      " [ 10093.79980469  10177.79980469  10040.75        10142.15039062\n",
      "   10142.15039062 987100.        ]\n",
      " [ 10326.75        10328.5         10120.25        10167.45019531\n",
      "   10167.45019531 936500.        ]\n",
      " [ 10181.15039062  10291.15039062  10021.45019531  10046.65039062\n",
      "   10046.65039062 754200.        ]\n",
      " [ 10072.59960938  10148.75        10036.84960938  10116.15039062\n",
      "   10116.15039062 632400.        ]\n",
      " [ 10094.09960938  10112.04980469   9885.04980469   9902.\n",
      "    9902.         715500.        ]\n",
      " [  9544.95019531   9996.04980469   9544.34960938   9972.90039062\n",
      "    9972.90039062 796300.        ]]\n"
     ]
    }
   ],
   "source": [
    "X_forecast = np.array(NSE.drop(['Prediction'],1))[-forecast_out:]\n",
    "print(X_forecast)"
   ]
  },
  {
   "cell_type": "code",
   "execution_count": 198,
   "metadata": {},
   "outputs": [
    {
     "name": "stdout",
     "output_type": "stream",
     "text": [
      "[ 9650.75694947  9220.31994623  9135.30292073  9147.30395542\n",
      "  9061.43083097  9154.83699859  9186.86433948  9007.34121402\n",
      "  9237.58326323  9081.26610459  8997.3974802   8774.09477476\n",
      "  8774.34262263  8989.54598451  9014.89340057  8941.68391493\n",
      "  8944.66609449  9193.36095653  9312.48615881  9366.77158406\n",
      "  9734.84242774  9802.06616088  9918.149046    9875.85541832\n",
      "  9894.08063544  9964.88204252 10001.60392872  9982.10235148\n",
      "  9809.99874497  9919.35188619]\n"
     ]
    }
   ],
   "source": [
    "lm_prediction = lm.predict(X_forecast)\n",
    "print(lm_prediction)"
   ]
  },
  {
   "cell_type": "code",
   "execution_count": 209,
   "metadata": {},
   "outputs": [],
   "source": [
    "pred = pd.DataFrame(lm_prediction)"
   ]
  },
  {
   "cell_type": "code",
   "execution_count": null,
   "metadata": {},
   "outputs": [],
   "source": [
    "predictions = lm.predict(X_test)"
   ]
  },
  {
   "cell_type": "code",
   "execution_count": null,
   "metadata": {},
   "outputs": [],
   "source": [
    "plt.scatter(y_test, predictions)\n",
    "plt.xlabel('y_Test')\n",
    "plt.ylabel('Predicted Y')"
   ]
  },
  {
   "cell_type": "code",
   "execution_count": null,
   "metadata": {},
   "outputs": [],
   "source": [
    "sns.distplot(y_test - predictions)"
   ]
  },
  {
   "cell_type": "code",
   "execution_count": 200,
   "metadata": {},
   "outputs": [],
   "source": [
    "from sklearn import metrics"
   ]
  },
  {
   "cell_type": "code",
   "execution_count": 201,
   "metadata": {},
   "outputs": [
    {
     "name": "stdout",
     "output_type": "stream",
     "text": [
      "MAE: 354.4429628733867\n"
     ]
    }
   ],
   "source": [
    "print('MAE:', metrics.mean_absolute_error(y_test, predictions))"
   ]
  },
  {
   "cell_type": "code",
   "execution_count": 202,
   "metadata": {},
   "outputs": [
    {
     "name": "stdout",
     "output_type": "stream",
     "text": [
      "MSE: 256373.6842116671\n"
     ]
    }
   ],
   "source": [
    "print('MSE:', metrics.mean_squared_error(y_test, predictions))"
   ]
  },
  {
   "cell_type": "code",
   "execution_count": 203,
   "metadata": {},
   "outputs": [
    {
     "name": "stdout",
     "output_type": "stream",
     "text": [
      "[[ 12266.45019531  12293.90039062  12252.75        12271.79980469\n",
      "   12271.79980469 810700.        ]\n",
      " [  7673.35009766   7674.95019531   7556.60009766   7568.29980469\n",
      "    7568.29980469 188900.        ]\n",
      " [  8515.75         8571.40039062   8500.70019531   8565.\n",
      "    8565.         153900.        ]\n",
      " ...\n",
      " [  7924.25         7957.70019531   7874.5          7948.89990234\n",
      "    7948.89990234 210700.        ]\n",
      " [  5233.54980469   5238.70019531   5197.5          5205.10009766\n",
      "    5205.10009766      0.        ]\n",
      " [  7436.10009766   7539.           7424.29980469   7531.79980469\n",
      "    7531.79980469 245100.        ]] [7541.688800910241, 5291.747992857006, 7938.07790538407, 10603.223720251284, 8581.912013144283]\n",
      "[11707.90039062  7210.75        8607.45019531 ...  7837.54980469\n",
      "  5225.70019531  7979.89990234]\n"
     ]
    }
   ],
   "source": [
    "print(X_test, [predictions[i] for i in range(len(predictions)-1, len(predictions)-6,-1)])\n",
    "print(y_test)"
   ]
  },
  {
   "cell_type": "code",
   "execution_count": 204,
   "metadata": {},
   "outputs": [
    {
     "data": {
      "text/plain": [
       "<matplotlib.collections.PathCollection at 0x7fae870dd390>"
      ]
     },
     "execution_count": 204,
     "metadata": {},
     "output_type": "execute_result"
    },
    {
     "data": {
      "image/png": "[encoded data removed]",
      "text/plain": [
       "<Figure size 432x288 with 1 Axes>"
      ]
     },
     "metadata": {
      "needs_background": "light"
     },
     "output_type": "display_data"
    }
   ],
   "source": [
    "plt.scatter(y_test, predictions)"
   ]
  },
  {
   "cell_type": "code",
   "execution_count": 228,
   "metadata": {},
   "outputs": [
    {
     "data": {
      "text/plain": [
       "<matplotlib.legend.Legend at 0x7fae88bd1790>"
      ]
     },
     "execution_count": 228,
     "metadata": {},
     "output_type": "execute_result"
    },
    {
     "data": {
      "text/plain": [
       "<Figure size 432x288 with 0 Axes>"
      ]
     },
     "metadata": {},
     "output_type": "display_data"
    },
    {
     "data": {
      "image/png": "[encoded data removed]",
      "text/plain": [
       "<Figure size 1152x432 with 1 Axes>"
      ]
     },
     "metadata": {
      "needs_background": "light"
     },
     "output_type": "display_data"
    }
   ],
   "source": [
    "fig = plt.figure()\n",
    "pred.plot(figsize=(16,6),label=tick)\n",
    "plt.xlabel('Days')\n",
    "plt.ylabel('Indicator')\n",
    "plt.legend('NSE')"
   ]
  },
  {
   "cell_type": "code",
   "execution_count": 213,
   "metadata": {},
   "outputs": [],
   "source": [
    "NSE_out = pd.merge(NSE,pred,how = 'left',left_index = True, right_index = True)"
   ]
  },
  {
   "cell_type": "code",
   "execution_count": 214,
   "metadata": {},
   "outputs": [
    {
     "data": {
      "text/html": [
       "<div>\n",
       "<style scoped>\n",
       "    .dataframe tbody tr th:only-of-type {\n",
       "        vertical-align: middle;\n",
       "    }\n",
       "\n",
       "    .dataframe tbody tr th {\n",
       "        vertical-align: top;\n",
       "    }\n",
       "\n",
       "    .dataframe thead th {\n",
       "        text-align: right;\n",
       "    }\n",
       "</style>\n",
       "<table border=\"1\" class=\"dataframe\">\n",
       "  <thead>\n",
       "    <tr style=\"text-align: right;\">\n",
       "      <th></th>\n",
       "      <th>Open</th>\n",
       "      <th>High</th>\n",
       "      <th>Low</th>\n",
       "      <th>Close</th>\n",
       "      <th>Adj Close</th>\n",
       "      <th>Volume</th>\n",
       "      <th>Prediction</th>\n",
       "      <th>0</th>\n",
       "    </tr>\n",
       "    <tr>\n",
       "      <th>Date</th>\n",
       "      <th></th>\n",
       "      <th></th>\n",
       "      <th></th>\n",
       "      <th></th>\n",
       "      <th></th>\n",
       "      <th></th>\n",
       "      <th></th>\n",
       "      <th></th>\n",
       "    </tr>\n",
       "  </thead>\n",
       "  <tbody>\n",
       "    <tr>\n",
       "      <th>2007-09-17</th>\n",
       "      <td>4518.450195</td>\n",
       "      <td>4549.049805</td>\n",
       "      <td>4482.850098</td>\n",
       "      <td>4494.649902</td>\n",
       "      <td>4494.649902</td>\n",
       "      <td>0</td>\n",
       "      <td>5868.750000</td>\n",
       "      <td>NaN</td>\n",
       "    </tr>\n",
       "    <tr>\n",
       "      <th>2007-09-18</th>\n",
       "      <td>4494.100098</td>\n",
       "      <td>4551.799805</td>\n",
       "      <td>4481.549805</td>\n",
       "      <td>4546.200195</td>\n",
       "      <td>4546.200195</td>\n",
       "      <td>0</td>\n",
       "      <td>5900.649902</td>\n",
       "      <td>NaN</td>\n",
       "    </tr>\n",
       "    <tr>\n",
       "      <th>2007-09-19</th>\n",
       "      <td>4550.250000</td>\n",
       "      <td>4739.000000</td>\n",
       "      <td>4550.250000</td>\n",
       "      <td>4732.350098</td>\n",
       "      <td>4732.350098</td>\n",
       "      <td>0</td>\n",
       "      <td>5866.450195</td>\n",
       "      <td>NaN</td>\n",
       "    </tr>\n",
       "    <tr>\n",
       "      <th>2007-09-20</th>\n",
       "      <td>4734.850098</td>\n",
       "      <td>4760.850098</td>\n",
       "      <td>4721.149902</td>\n",
       "      <td>4747.549805</td>\n",
       "      <td>4747.549805</td>\n",
       "      <td>0</td>\n",
       "      <td>5932.399902</td>\n",
       "      <td>NaN</td>\n",
       "    </tr>\n",
       "    <tr>\n",
       "      <th>2007-09-21</th>\n",
       "      <td>4752.950195</td>\n",
       "      <td>4855.700195</td>\n",
       "      <td>4733.700195</td>\n",
       "      <td>4837.549805</td>\n",
       "      <td>4837.549805</td>\n",
       "      <td>0</td>\n",
       "      <td>5847.299805</td>\n",
       "      <td>NaN</td>\n",
       "    </tr>\n",
       "    <tr>\n",
       "      <th>...</th>\n",
       "      <td>...</td>\n",
       "      <td>...</td>\n",
       "      <td>...</td>\n",
       "      <td>...</td>\n",
       "      <td>...</td>\n",
       "      <td>...</td>\n",
       "      <td>...</td>\n",
       "      <td>...</td>\n",
       "    </tr>\n",
       "    <tr>\n",
       "      <th>2020-06-08</th>\n",
       "      <td>10326.750000</td>\n",
       "      <td>10328.500000</td>\n",
       "      <td>10120.250000</td>\n",
       "      <td>10167.450195</td>\n",
       "      <td>10167.450195</td>\n",
       "      <td>936500</td>\n",
       "      <td>NaN</td>\n",
       "      <td>NaN</td>\n",
       "    </tr>\n",
       "    <tr>\n",
       "      <th>2020-06-09</th>\n",
       "      <td>10181.150391</td>\n",
       "      <td>10291.150391</td>\n",
       "      <td>10021.450195</td>\n",
       "      <td>10046.650391</td>\n",
       "      <td>10046.650391</td>\n",
       "      <td>754200</td>\n",
       "      <td>NaN</td>\n",
       "      <td>NaN</td>\n",
       "    </tr>\n",
       "    <tr>\n",
       "      <th>2020-06-10</th>\n",
       "      <td>10072.599609</td>\n",
       "      <td>10148.750000</td>\n",
       "      <td>10036.849609</td>\n",
       "      <td>10116.150391</td>\n",
       "      <td>10116.150391</td>\n",
       "      <td>632400</td>\n",
       "      <td>NaN</td>\n",
       "      <td>NaN</td>\n",
       "    </tr>\n",
       "    <tr>\n",
       "      <th>2020-06-11</th>\n",
       "      <td>10094.099609</td>\n",
       "      <td>10112.049805</td>\n",
       "      <td>9885.049805</td>\n",
       "      <td>9902.000000</td>\n",
       "      <td>9902.000000</td>\n",
       "      <td>715500</td>\n",
       "      <td>NaN</td>\n",
       "      <td>NaN</td>\n",
       "    </tr>\n",
       "    <tr>\n",
       "      <th>2020-06-12</th>\n",
       "      <td>9544.950195</td>\n",
       "      <td>9996.049805</td>\n",
       "      <td>9544.349609</td>\n",
       "      <td>9972.900391</td>\n",
       "      <td>9972.900391</td>\n",
       "      <td>796300</td>\n",
       "      <td>NaN</td>\n",
       "      <td>NaN</td>\n",
       "    </tr>\n",
       "  </tbody>\n",
       "</table>\n",
       "<p>3108 rows × 8 columns</p>\n",
       "</div>"
      ],
      "text/plain": [
       "                    Open          High           Low         Close  \\\n",
       "Date                                                                 \n",
       "2007-09-17   4518.450195   4549.049805   4482.850098   4494.649902   \n",
       "2007-09-18   4494.100098   4551.799805   4481.549805   4546.200195   \n",
       "2007-09-19   4550.250000   4739.000000   4550.250000   4732.350098   \n",
       "2007-09-20   4734.850098   4760.850098   4721.149902   4747.549805   \n",
       "2007-09-21   4752.950195   4855.700195   4733.700195   4837.549805   \n",
       "...                  ...           ...           ...           ...   \n",
       "2020-06-08  10326.750000  10328.500000  10120.250000  10167.450195   \n",
       "2020-06-09  10181.150391  10291.150391  10021.450195  10046.650391   \n",
       "2020-06-10  10072.599609  10148.750000  10036.849609  10116.150391   \n",
       "2020-06-11  10094.099609  10112.049805   9885.049805   9902.000000   \n",
       "2020-06-12   9544.950195   9996.049805   9544.349609   9972.900391   \n",
       "\n",
       "               Adj Close  Volume   Prediction   0  \n",
       "Date                                               \n",
       "2007-09-17   4494.649902       0  5868.750000 NaN  \n",
       "2007-09-18   4546.200195       0  5900.649902 NaN  \n",
       "2007-09-19   4732.350098       0  5866.450195 NaN  \n",
       "2007-09-20   4747.549805       0  5932.399902 NaN  \n",
       "2007-09-21   4837.549805       0  5847.299805 NaN  \n",
       "...                  ...     ...          ...  ..  \n",
       "2020-06-08  10167.450195  936500          NaN NaN  \n",
       "2020-06-09  10046.650391  754200          NaN NaN  \n",
       "2020-06-10  10116.150391  632400          NaN NaN  \n",
       "2020-06-11   9902.000000  715500          NaN NaN  \n",
       "2020-06-12   9972.900391  796300          NaN NaN  \n",
       "\n",
       "[3108 rows x 8 columns]"
      ]
     },
     "execution_count": 214,
     "metadata": {},
     "output_type": "execute_result"
    }
   ],
   "source": [
    "NSE_out"
   ]
  },
  {
   "cell_type": "code",
   "execution_count": null,
   "metadata": {},
   "outputs": [],
   "source": []
  }
 ],
 "metadata": {
  "kernelspec": {
   "display_name": "Python 3",
   "language": "python",
   "name": "python3"
  },
  "language_info": {
   "codemirror_mode": {
    "name": "ipython",
    "version": 3
   },
   "file_extension": ".py",
   "mimetype": "text/x-python",
   "name": "python",
   "nbconvert_exporter": "python",
   "pygments_lexer": "ipython3",
   "version": "3.7.4"
  }
 },
 "nbformat": 4,
 "nbformat_minor": 4
}
